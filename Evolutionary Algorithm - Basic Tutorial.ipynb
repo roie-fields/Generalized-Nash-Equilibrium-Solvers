{
 "cells": [
  {
   "cell_type": "markdown",
   "metadata": {},
   "source": [
    "# EA Tutorial"
   ]
  },
  {
   "cell_type": "code",
   "execution_count": 1,
   "metadata": {},
   "outputs": [],
   "source": [
    "import numpy as np\n",
    "import pandas as pd\n",
    "import scipy as sp\n",
    "import random\n",
    "import math\n",
    "import matplotlib as mpl\n",
    "\n",
    "from scipy import optimize\n",
    "from ortools.linear_solver import pywraplp\n",
    "\n",
    "from sklearn.linear_model import LinearRegression\n",
    "\n",
    "%matplotlib inline\n",
    "import matplotlib.pyplot as plt\n",
    "plt.style.use('seaborn-whitegrid')"
   ]
  },
  {
   "cell_type": "markdown",
   "metadata": {},
   "source": [
    "## Problem Description "
   ]
  },
  {
   "cell_type": "markdown",
   "metadata": {},
   "source": [
    "We are given n players, each with their own objective function that they seek to optimize, subject to shared constraints. \n",
    "Here, we have 2 players, and 2 constraints:\n",
    "\n",
    "$$\\begin{align}\n",
    "    f_{1}(x) = (x-1)^2 \\\\f_{2}(y) = (y-0.5)^2\\\\ \\\\obj(P1) = min_{x} f_{1}(x) \\\\ obj(P2) =  min_{y}f_{2}(y)\n",
    "\\end{align}$$\n",
    "\n",
    "Subject to\n",
    "$$x,y \\geq 0 \\\\x+y \\leq 1 $$\n",
    "                              \n",
    "\n",
    "A Nash Equilibirum is defined as a point at which each player has optimized their objective function subject to the constraints, assuming that variables they do not control remain fixed. For this problem, our solution set is given by \n",
    "$$(x,y) = (t,1-t) \\mid t \\in [0.5,1] $$\n"
   ]
  },
  {
   "cell_type": "code",
   "execution_count": 2,
   "metadata": {},
   "outputs": [
    {
     "data": {
      "image/png": "[encoded data removed]",
      "text/plain": [
       "<Figure size 432x288 with 1 Axes>"
      ]
     },
     "metadata": {},
     "output_type": "display_data"
    },
    {
     "name": "stdout",
     "output_type": "stream",
     "text": [
      "The solution set is given by (x,y) = (t, 1-t) such that 0.5 <= t <= 1\n"
     ]
    }
   ],
   "source": [
    "x = np.linspace(0.5, 1, 1000)\n",
    "plt.plot(x,1-x, 'k', linewidth=0.5)\n",
    "plt.xlim(0,1)\n",
    "plt.ylim(0,1)\n",
    "plt.show()\n",
    "print(\"The solution set is given by (x,y) = (t, 1-t) such that 0.5 <= t <= 1\")"
   ]
  },
  {
   "cell_type": "markdown",
   "metadata": {},
   "source": [
    "For this Evolutionary Algorithm, we follow the following general protocol: \n",
    "    1. Generate 2 * numSelect random points\n",
    "    2. Calculate fitness of each of these points\n",
    "    3. Rank and choose the top numSelect points, deleting the rest\n",
    "    4. Perform linear regression on selected points\n",
    "    5. Generate numSelect new random x values, and select corresponding y values according to the line with some randomness\n",
    "    6. Repeat steps 2-5 until threshold convergence or max iterations\n",
    "\n",
    "We will go into much more detail on each of these steps below."
   ]
  },
  {
   "cell_type": "markdown",
   "metadata": {},
   "source": [
    "## 1. Generating Initial Points"
   ]
  },
  {
   "cell_type": "markdown",
   "metadata": {},
   "source": [
    "First, we calculate the global bounds for each of x and y individually, based on the constraints. Here, it is trivial that $$0 \\leq x,y \\leq 1$$\n",
    "We select random values of x and y within their global bounds, and plot them below:\n"
   ]
  },
  {
   "cell_type": "code",
   "execution_count": 4,
   "metadata": {},
   "outputs": [
    {
     "data": {
      "image/png": "[encoded data removed]",
      "text/plain": [
       "<Figure size 432x288 with 1 Axes>"
      ]
     },
     "metadata": {},
     "output_type": "display_data"
    }
   ],
   "source": [
    "testNum = 6 # Number of points in each generation\n",
    "numSelect = 3 # Number of SELECTED points in each gen\n",
    "\n",
    "xPoints = np.ones(testNum)\n",
    "yPoints = np.ones(testNum)\n",
    "\n",
    "myMarkers = ['.', 'x', '*', '+', 'D', 's']\n",
    "\n",
    "for i in range(testNum):\n",
    "    xPoints[i] = random.random()\n",
    "    yPoints[i] = random.random()\n",
    "    plt.scatter(xPoints[i], yPoints[i], c='k', marker=myMarkers[i])\n",
    "plt.xlim(0,1)\n",
    "plt.ylim(0,1)\n",
    "plt.show()"
   ]
  },
  {
   "cell_type": "markdown",
   "metadata": {},
   "source": [
    "## 2. Calculating fitness"
   ]
  },
  {
   "cell_type": "markdown",
   "metadata": {},
   "source": [
    "Let C represent our constraint set. We define the fitness of each point $p_{i}=(x_{i},y_{i})$ as the euclidean distance to its *Shadow Point*, $p_{i}*$. We define the *Shadow Point* as such:\n",
    "\n",
    "\n",
    "$$p_{i}*=(x_{i}*, y_{i}*)$$\n",
    "Where\n",
    "$$\\begin{align}\n",
    "x_{i}* = min f_{1}(x) \\textit{ subject to } C \\mid y=y_{i}\\\\\n",
    "y_{i}* = min f_{2}(y) \\textit{ subject to } C \\mid x = x_{i}\n",
    "\\end{align}$$\n",
    "\n",
    "EXAMPLE: Let $$p_{j} = (0.4, 0.9)$$\n",
    "$$x_{j}* = min(x-1)^2 \\textit{s.t.  } x \\geq 0, x+0.9\\leq1 \\implies x_{j}* = 0.1$$\n",
    "$$y_{j}* = min(y-0.5)^2 \\textit{s.t.  } y \\geq 0, y+0.4\\leq1 \\implies y_{j}* = 0.5$$\n",
    "$$\\therefore p_{j}*=(0.1, 0.5)$$\n",
    "\n",
    "    Thus\n",
    "$$fitness(p_{j}) = dist(p_{j}, p_{j}*) = \\sqrt{(0.4-0.1)^2 + (0.9-0.5)^2} = 0.5$$\n",
    "\n",
    "By definition, $p_{a} \\in solution set \\iff p_{a}$ is a nash equilibrium $\\iff p_{a} = p_{a}* \\iff fitness(p_{a}) =0$"
   ]
  },
  {
   "cell_type": "markdown",
   "metadata": {},
   "source": [
    "### Fitness Code"
   ]
  },
  {
   "cell_type": "markdown",
   "metadata": {},
   "source": [
    "**funcx(x)** and **funcy(y)** define $f_{1}(x)$ and $f_{2}(y)$ respectively\n",
    "\n",
    "**optimizeMe(other, funToOp)** solves for $x_{i}*$ given $y_{i}$ and $f_{1}(x)$, or $y_{i}*$ given $x_{i}$ and $f_{2}(y)$\n",
    "\n",
    "**penalty(x, y)** takes in $p$ as $x_{i}, y_{i}$ and returns the euclidean distance to $p_{i}*$ as calculated by **optimizeMe**\n",
    "\n",
    "**findFitness(xVec, yVec)** takes an x vector and y vector and returns a vector of the corresponding fitness vector given by **penalty**. "
   ]
  },
  {
   "cell_type": "code",
   "execution_count": 5,
   "metadata": {},
   "outputs": [],
   "source": [
    "cols = 6\n",
    "#Define Functions to Optimize\n",
    "def funcx(x):\n",
    "    return (x-1)**2\n",
    "\n",
    "def funcy(y):\n",
    "    return (y-0.5)**2\n",
    "\n",
    "\n",
    "#Create Optimizer\n",
    "def optimizeMe(other, funToOp): #Inputs: the other variable value to create bounds, objective function to optimize\n",
    "    \n",
    "    #Constrain my variable by other\n",
    "    myLim = 1 - other\n",
    "    myBounds = (0, myLim)\n",
    "\n",
    "    #Solve x based on xConstraint\n",
    "    mySolver = sp.optimize.minimize_scalar(funToOp, bounds=myBounds, method='bounded', tol=None, options=None)\n",
    "\n",
    "    myOpt = mySolver.x\n",
    "\n",
    "    return myOpt\n",
    "\n",
    "def penalty(x, y):\n",
    "    \n",
    "    xOpt = optimizeMe(y, funcx)\n",
    "    xDist = abs(x - xOpt)\n",
    "    \n",
    "    yOpt = optimizeMe(x, funcy)\n",
    "    yDist = abs(y - yOpt)\n",
    "    \n",
    "        \n",
    "    return math.sqrt(xDist**2 + yDist**2)\n",
    "\n",
    "def findFitness(xVec, yVec):\n",
    "    vec = np.ones(cols)\n",
    "    for i in range(cols):\n",
    "        vec[i] = penalty(xVec[i], yVec[i])\n",
    "    return vec\n",
    "\n",
    "fitVec = findFitness(xPoints, yPoints)"
   ]
  },
  {
   "cell_type": "markdown",
   "metadata": {},
   "source": [
    "For the 6 points we generated previously (black), the corresponding shadow points are shown in blue, and the true solution set is shown as a line:"
   ]
  },
  {
   "cell_type": "code",
   "execution_count": 6,
   "metadata": {},
   "outputs": [
    {
     "name": "stdout",
     "output_type": "stream",
     "text": [
      "point . has fitness 0.036489750109717396\n",
      "point x has fitness 0.2743346428309747\n",
      "point * has fitness 0.8754807346463663\n",
      "point + has fitness 0.5850537143984578\n",
      "point D has fitness 0.9229522655716854\n",
      "point s has fitness 0.5228720568305624\n"
     ]
    },
    {
     "data": {
      "image/png": "[encoded data removed]",
      "text/plain": [
       "<Figure size 432x288 with 1 Axes>"
      ]
     },
     "metadata": {},
     "output_type": "display_data"
    }
   ],
   "source": [
    "xMatches = np.ones(testNum)\n",
    "yMatches = np.ones(testNum)\n",
    "\n",
    "for i in range(testNum):\n",
    "    xMatches[i] = optimizeMe(yPoints[i] ,funcx)\n",
    "    yMatches[i] = optimizeMe(xPoints[i] ,funcy)\n",
    "    \n",
    "for i in range(6):\n",
    "    plt.scatter(xPoints[i], yPoints[i], c='k', marker=myMarkers[i])\n",
    "    plt.scatter(xMatches[i], yMatches[i], c='b', marker=myMarkers[i])\n",
    "    print(\"point\", myMarkers[i], \"has fitness\", fitVec[i])\n",
    "    plt.xlim(0,1)\n",
    "    plt.ylim(0,1)\n",
    "plt.plot(x,1-x, 'k', linewidth=0.5)\n",
    "plt.show()"
   ]
  },
  {
   "cell_type": "markdown",
   "metadata": {},
   "source": [
    "## 3. Rank and select top points"
   ]
  },
  {
   "cell_type": "markdown",
   "metadata": {},
   "source": [
    "From these generated points, we now select the numSelect points with the lowest fitness values."
   ]
  },
  {
   "cell_type": "code",
   "execution_count": 7,
   "metadata": {
    "scrolled": true
   },
   "outputs": [
    {
     "name": "stdout",
     "output_type": "stream",
     "text": [
      "After selection we choose:\n",
      "point . with fitness 0.036489750109717396\n",
      "point x with fitness 0.2743346428309747\n",
      "point s with fitness 0.5228720568305624\n"
     ]
    },
    {
     "data": {
      "image/png": "[encoded data removed]",
      "text/plain": [
       "<Figure size 432x288 with 1 Axes>"
      ]
     },
     "metadata": {},
     "output_type": "display_data"
    }
   ],
   "source": [
    "ordered = np.argsort(fitVec)\n",
    "bestX = [xPoints[ordered[i]] for i in range(3)]\n",
    "bestY = [yPoints[ordered[i]] for i in range(3)]\n",
    "\n",
    "print(\"After selection we choose:\")\n",
    "for i in range(3):\n",
    "    print(\"point\", myMarkers[ordered[i]], \"with fitness\", fitVec[ordered[i]])\n",
    "\n",
    "for i in range(3):\n",
    "    plt.scatter(xPoints[ordered[i]], yPoints[ordered[i]], c='k', marker=myMarkers[ordered[i]])\n",
    "    plt.xlim(0,1)\n",
    "    plt.ylim(0,1)\n",
    "plt.show()"
   ]
  },
  {
   "cell_type": "code",
   "execution_count": 9,
   "metadata": {},
   "outputs": [
    {
     "data": {
      "text/plain": [
       "(0.0, 1.0)"
      ]
     },
     "execution_count": 9,
     "metadata": {},
     "output_type": "execute_result"
    },
    {
     "data": {
      "image/png": "[encoded data removed]",
      "text/plain": [
       "<Figure size 432x288 with 1 Axes>"
      ]
     },
     "metadata": {},
     "output_type": "display_data"
    }
   ],
   "source": [
    "plt.scatter(0,0)\n",
    "plt.xlim(0,1)\n",
    "plt.ylim(0,1)"
   ]
  },
  {
   "cell_type": "markdown",
   "metadata": {},
   "source": [
    "## 4. Linear Regression"
   ]
  },
  {
   "cell_type": "code",
   "execution_count": 10,
   "metadata": {},
   "outputs": [
    {
     "name": "stdout",
     "output_type": "stream",
     "text": [
      "y = 0.20544806531292517 * x +  0.14146730641015162\n"
     ]
    },
    {
     "data": {
      "image/png": "[encoded data removed]",
      "text/plain": [
       "<Figure size 432x288 with 1 Axes>"
      ]
     },
     "metadata": {},
     "output_type": "display_data"
    }
   ],
   "source": [
    "slope, intercept, r_value, p_value, std_err = sp.stats.linregress(bestX, bestY)\n",
    "x = np.linspace(0, 1, 1000)\n",
    "for i in range(3):\n",
    "    plt.scatter(xPoints[ordered[i]], yPoints[ordered[i]], c='k', marker=myMarkers[ordered[i]])\n",
    "\n",
    "plt.plot(x,intercept + slope*x, 'k', linewidth=0.5)\n",
    "plt.xlim(0,1)\n",
    "plt.ylim(0,1)\n",
    "print(\"y =\", slope, \"* x + \", intercept)\n",
    "\n",
    "saveX = xPoints\n",
    "saveY = yPoints\n",
    "saveOrder = ordered\n",
    "saveBest = bestX"
   ]
  },
  {
   "cell_type": "markdown",
   "metadata": {},
   "source": [
    "## 5. Generate replacement points using the line"
   ]
  },
  {
   "cell_type": "markdown",
   "metadata": {},
   "source": [
    "### Generating new X points"
   ]
  },
  {
   "cell_type": "markdown",
   "metadata": {},
   "source": [
    "To generate replacement points for the ones we removed, we first must select our x points. To determine the range of x values from which we select new points, we use the range of x values from our current selected points and expand it a proportion of the remaining space to the absolute bounds of x.\n",
    "let minX, maxX represent the min and max x values from bestX (our selected points).\n",
    "let $x_{floor}$, x_{ceiling} represent the global lower and upper bounds on x (0, 1) in this case\n",
    "let $\\delta = 0.985$, and let i represent the number of generations we have made so far (number of iterations performed)\n",
    "\n",
    "**We extend the search space from minX and maxX $\\delta^i$ of the way to absMinX and absMaxX.**:\n",
    "\n",
    "choose new $x \\in (x_{low}, x_{high})$ such that\n",
    "$$x_{low} = minX - (minX-x_{floor})\\delta^{i}$$\n",
    "$$x_{high} = maxX + (x_{ceiling} - maxX)\\delta^{i}$$\n",
    "\n",
    "\n",
    "**INTERACTIVE:** Below, try changing the values of \"iterationNum\", and watch how the search space (space between the red lines) changes. The left line represents $x_{low}$, and the right $x_{high}$. Thus, as our range of x values tends towards the true range of x values in the solution set, our search space too converges onto the solution set. Simultaneously, when the iteration count is still low, we search almost the entire range of possible x values, regardless of where the x points are.\n",
    "Additionally, one can change the value of $\\delta$ to increase or decrease 'step size' (which is inversely proportional to $\\delta$). As with other algorithms, larger step size increases rate of convergance, but risks missing the solution set altogether. "
   ]
  },
  {
   "cell_type": "code",
   "execution_count": 14,
   "metadata": {},
   "outputs": [
    {
     "name": "stdout",
     "output_type": "stream",
     "text": [
      "When i = 100 we search between:\n"
     ]
    },
    {
     "data": {
      "image/png": "[encoded data removed]",
      "text/plain": [
       "<Figure size 432x288 with 1 Axes>"
      ]
     },
     "metadata": {},
     "output_type": "display_data"
    }
   ],
   "source": [
    "xPoints = saveX\n",
    "yPoints = saveY\n",
    "ordered = saveOrder\n",
    "bestX = saveBest\n",
    "\n",
    "#CHANGE THESE#\n",
    "Delta = 0.985\n",
    "iterationNum = 100\n",
    "#CHANGE THESE^^^#\n",
    "\n",
    "\n",
    "xMins = min(bestX) - min(bestX)*(Delta**iterationNum)\n",
    "xMaxs = max(bestX) + (1 - max(bestX))*(Delta**iterationNum)\n",
    "\n",
    "for i in range(3):\n",
    "    plt.scatter(xPoints[ordered[i]], yPoints[ordered[i]], c='k', marker=myMarkers[ordered[i]])\n",
    "\n",
    "plt.plot(x,intercept + slope*x, 'k', linewidth=0.5)\n",
    "plt.plot(x,1000*(x-xMins), 'r', linewidth=0.5)\n",
    "plt.plot(x,1000*(x-xMaxs), 'r', linewidth=0.5)\n",
    "\n",
    "plt.xlim(0,1)\n",
    "plt.ylim(0,1)\n",
    "\n",
    "print(\"When i =\", iterationNum, \"we search between:\")\n",
    "plt.show()"
   ]
  },
  {
   "cell_type": "markdown",
   "metadata": {},
   "source": [
    "Based on our current generation of selected points, the global bounds on x, our current iteration, and the selected delta value, we select the upper and lower bounds for our x search space for the following generation (shown by the red bars). We randomly generate numSelect replacement x points between these bounds for the ones we removed previously. \n",
    "\n",
    "Function **nextGenX(Xbest, iterations, Delta)** takes in the x coordinates of the selected points, the iteration number, and the $\\delta$ value, and outputs a new vector where the first points are the selected points of the previous generation, and the remaining points are randomly distributed x values within the x search space defined by that generation."
   ]
  },
  {
   "cell_type": "code",
   "execution_count": 16,
   "metadata": {},
   "outputs": [
    {
     "name": "stdout",
     "output_type": "stream",
     "text": [
      "Our new x vector is [0.79794585 0.81054202 0.34688571 0.71175032 0.65174449 0.41180686]\n"
     ]
    }
   ],
   "source": [
    "#Global bounds on x\n",
    "xMinConstr = 0\n",
    "xMaxConstr = 1\n",
    "yMinConstr = 0\n",
    "yMaxConstr = 1\n",
    "\n",
    "def nextGenX(Xbest, iterations, Delta):\n",
    "    NewX = np.ones(cols) #initialize a vector of ones\n",
    "\n",
    "    maxX = max(Xbest)\n",
    "    minX = min(Xbest)\n",
    "\n",
    "    #Find lower limit of x search\n",
    "    bottXDist = minX - xMinConstr\n",
    "    extXBott = bottXDist*(Delta**iterations)\n",
    "    minSearchX = minX - extXBott\n",
    "\n",
    "    #Find upper limit of x search\n",
    "    topXDist = xMaxConstr - maxX\n",
    "    extXTop = topXDist*(Delta**iterations)\n",
    "    maxSearchX = maxX + extXTop\n",
    "\n",
    "    #Find size of search space to scale 'random' number generator\n",
    "    xSize = maxSearchX - minSearchX\n",
    "    \n",
    "    for i in range(numSelect):\n",
    "        NewX[i] = Xbest[i]\n",
    "\n",
    "\n",
    "    for i in range(cols - numSelect):    \n",
    "\n",
    "        #Select new values of x by taking random numbers from [0,1] and mapping them onto our search space of x\n",
    "        NewX[numSelect + i] = (random.random() * xSize) + minSearchX\n",
    "    return NewX\n",
    "\n",
    "oldX = xPoints\n",
    "xPoints = nextGenX(bestX, 1, Delta)\n",
    "print(\"Our new x vector is\", xPoints)"
   ]
  },
  {
   "cell_type": "markdown",
   "metadata": {},
   "source": [
    "### Generating Y points"
   ]
  },
  {
   "cell_type": "markdown",
   "metadata": {},
   "source": [
    "To generate replacement y points corresponding to the newly generated x points, we use the line formed in our Linear Regression performed previously, and add in a diminishing force of randomness. We investigate 2 methods to create this randomness. "
   ]
  },
  {
   "cell_type": "markdown",
   "metadata": {},
   "source": [
    "#### Y-Range Searching "
   ]
  },
  {
   "cell_type": "markdown",
   "metadata": {},
   "source": [
    "The first method of adding randomness to the new y values is accomplished in a very similar way to that achieved by x. For each new $x_{j}$ value, a value $\\hat{y}_{j}$ is found using the line created by the previous linear regeression. The initial upper and lower bounds for the $y_{j}$ search are given by $\\hat{y}_{j}$, and are then extended $\\epsilon^{i}$ of the way to the global upper and lower bounds for y, where i is the current iteration and $\\epsilon = 0.985$. $y_{j}$ is then selected randomly between these bounds\n",
    "\n",
    "**INTERACTIVE:** Below, try changing the values of \"iterationNum\", and watch how the search space (space between the red lines) changes. Thus, as our range of x values tends towards the true range of x values in the solution set, and our linear regression tends towards the true linear solution, we do not search past this space too much.\n",
    "Similarly to previously, we can also vary our step sizes with changes applied to $\\epsilon$ (y search step size) or $\\delta$ (x search step size)."
   ]
  },
  {
   "cell_type": "code",
   "execution_count": 21,
   "metadata": {},
   "outputs": [
    {
     "name": "stdout",
     "output_type": "stream",
     "text": [
      "When i = 100 we search between:\n"
     ]
    },
    {
     "data": {
      "image/png": "[encoded data removed]",
      "text/plain": [
       "<Figure size 432x288 with 1 Axes>"
      ]
     },
     "metadata": {},
     "output_type": "display_data"
    }
   ],
   "source": [
    "Delta = 0.99\n",
    "Epsilon = 0.985\n",
    "iterationNum = 100\n",
    "\n",
    "xMins = min(bestX) - min(bestX)*(Delta**iterationNum)\n",
    "xMaxs = max(bestX) + (1 - max(bestX))*(Delta**iterationNum)\n",
    "\n",
    "yHatXMin = intercept + slope*xMins\n",
    "yHatXMax = intercept + slope*xMaxs\n",
    "\n",
    "yMinXMin = yHatXMin + (yMaxConstr-yHatXMin)*(Epsilon**iterationNum)\n",
    "yMaxXMin = yHatXMin - (yHatXMin-yMinConstr)*(Epsilon**iterationNum)\n",
    "yMinXMax = yHatXMax + (yMaxConstr-yHatXMax)*(Epsilon**iterationNum)\n",
    "yMaxXMax = yHatXMax - (yHatXMax-yMinConstr)*(Epsilon**iterationNum)\n",
    "\n",
    "yTopSlope = (yMaxXMax - yMaxXMin)/(xMaxs-xMins)\n",
    "yBottSlope = (yMinXMax - yMinXMin)/(xMaxs-xMins)\n",
    "\n",
    "topIntercept = yMaxXMin - yTopSlope*xMins\n",
    "bottIntercept = yMinXMin - yBottSlope *xMins\n",
    "\n",
    "for i in range(3):\n",
    "    plt.scatter(oldX[ordered[i]], yPoints[ordered[i]], c='k', marker=myMarkers[ordered[i]])\n",
    "\n",
    "plt.plot(x,intercept + slope*x, 'k', linewidth=0.5)\n",
    "#plt.plot(x,1000*(x-xMins), 'r', linewidth=0.5)\n",
    "#plt.plot(x,1000*(x-xMaxs), 'r', linewidth=0.5)\n",
    "\n",
    "plt.plot(x,yTopSlope*x + topIntercept, 'r', linewidth=0.5)\n",
    "plt.plot(x,yBottSlope*x + bottIntercept, 'r', linewidth=0.5)\n",
    "\n",
    "plt.xlim(0,1)\n",
    "plt.ylim(0,1)\n",
    "\n",
    "print(\"When i =\", iterationNum, \"we search between:\")\n",
    "plt.show()"
   ]
  },
  {
   "cell_type": "markdown",
   "metadata": {},
   "source": [
    "Function **nextGenYRange(Ybest, iterations, Epsilon)** takes in the y coordinates of the selected points, the iteration number, and the $\\epsilon$ value, and returns a new vector where the first points are the selected y values from the previous genration, and the remaining points are randomly distributed values within the y search space defined by that x value, the iteration count, the $\\epsilon$ value and the line from that generation"
   ]
  },
  {
   "cell_type": "code",
   "execution_count": 22,
   "metadata": {},
   "outputs": [],
   "source": [
    "def nextGenYRange(Ybest, iterations, Epsilon):\n",
    "    NewY = np.ones(cols)\n",
    "    \n",
    "    for i in range(numSelect):       \n",
    "        NewY[i] = Ybest[i]\n",
    "\n",
    "    #Select new values of y by taking the output from the line function, \n",
    "    #and adding/subtracting some sort of error, of size defined by deistance from edge, and diminished by epsilon\n",
    "    \n",
    "    for i in range(cols - numSelect):\n",
    "        y = slope * xPoints[numSelect + i] + intercept\n",
    "        maxSearchY = y + (yMaxConstr - y) * (Epsilon ** iterations)\n",
    "        minSearchY = y - y * (Epsilon ** iterations)\n",
    "\n",
    "        ySize = maxSearchY - minSearchY\n",
    "\n",
    "        NewY[numSelect + i] = random.random()*ySize+ minSearchY\n",
    "    \n",
    "    return NewY"
   ]
  },
  {
   "cell_type": "markdown",
   "metadata": {},
   "source": [
    "### Error Adding"
   ]
  },
  {
   "cell_type": "markdown",
   "metadata": {},
   "source": [
    "The second method of adding randomness to $\\hat{y}_{j}$ point generated by $x_{j}$ and the linear regression on iteration i is by adding a term to $\\hat{y}_{j}$. This term is chosen ranndomly from a set of size (yMaxConstr - yMinConstr) * $\\epsilon^{i}$ that is symetrical about 0. So for this problem, we choose random $error \\in [-0.5, 0.5] * \\epsilon^{i}$, with $\\epsilon = 0.985$ so as to slowly diminish the force of randomness. This error is added onto $\\hat{y}_{j}$ to create $y_{j}$. With this method, we run the risk of setting $y_{j}$ to a vlaue a outside of our global bounds for y. When this occurs, $y_{j}$ is set to that global bound.\n",
    "\n",
    "**INTERACTIVE:** Below, try changing the values of \"iterationNum\", and watch how the search space (space between the red lines) changes. Thus, as our range of x values tends towards the true range of x values in the solution set, and our linear regression tends towards the true linear solution, we search a more local area."
   ]
  },
  {
   "cell_type": "code",
   "execution_count": 12,
   "metadata": {
    "scrolled": true
   },
   "outputs": [
    {
     "name": "stdout",
     "output_type": "stream",
     "text": [
      "When i = 50 we search between:\n"
     ]
    },
    {
     "data": {
      "image/png": "[encoded data removed]",
      "text/plain": [
       "<Figure size 432x288 with 1 Axes>"
      ]
     },
     "metadata": {},
     "output_type": "display_data"
    }
   ],
   "source": [
    "Epsilon = 0.99\n",
    "iterationNum = 50\n",
    "\n",
    "xMins = min(bestX) - min(bestX)*(Delta**iterationNum)\n",
    "xMaxs = max(bestX) + (1 - max(bestX))*(Delta**iterationNum)\n",
    "\n",
    "ySpan = yMaxConstr - yMinConstr\n",
    "error = ySpan*(random.random()-0.5)\n",
    "\n",
    "yHatXMin = intercept + slope*xMins\n",
    "yHatXMax = intercept + slope*xMaxs\n",
    "\n",
    "yMinXMin = max(0.00001, yHatXMin - (ySpan*0.5)*(Epsilon**iterationNum))\n",
    "yMaxXMin = min(0.99999, yHatXMin + (ySpan*0.5)*(Epsilon**iterationNum))\n",
    "yMinXMax = max(0.00001, yHatXMax - (ySpan*0.5)*(Epsilon**iterationNum))\n",
    "yMaxXMax = min(0.99999, yHatXMax + (ySpan*0.5)*(Epsilon**iterationNum))\n",
    "\n",
    "\n",
    "topIntercept = intercept + (ySpan*0.5)*(Epsilon**iterationNum)\n",
    "bottIntercept = intercept - (ySpan*0.5)*(Epsilon**iterationNum)\n",
    "\n",
    "for i in range(3):\n",
    "    plt.scatter(oldX[ordered[i]], yPoints[ordered[i]], c='k', marker=myMarkers[ordered[i]])\n",
    "\n",
    "plt.plot(x,intercept + slope*x, 'k', linewidth=0.5)\n",
    "plt.plot(x,1000*(x-xMins), 'r', linewidth=0.5)\n",
    "plt.plot(x,1000*(x-xMaxs), 'r', linewidth=0.5)\n",
    "\n",
    "plt.plot(x,slope*x + topIntercept, 'r', linewidth=0.5)\n",
    "plt.plot(x,slope*x + bottIntercept, 'r', linewidth=0.5)\n",
    "\n",
    "plt.xlim(0,1)\n",
    "plt.ylim(0,1)\n",
    "\n",
    "print(\"When i =\", iterationNum, \"we search between:\")\n",
    "plt.show()"
   ]
  },
  {
   "cell_type": "markdown",
   "metadata": {},
   "source": [
    "function **nextGenYError(Ybest, iterations, Epsilon)** takes in the y coordinates of the selected points, the iteration number, and the $\\epsilon$ value, and returns a new vector where the first points are the selected y values from the previous genration, and the remaining points are randomly distributed values within the y search space defined by the linear regretion of that generation, and an error value from a set of size ySpan symetrical about 0, or to the global bounds of y."
   ]
  },
  {
   "cell_type": "code",
   "execution_count": 13,
   "metadata": {},
   "outputs": [],
   "source": [
    "def nextGenYError(Ybest, iterations, Epsilon):\n",
    "    NewY = np.ones(cols)\n",
    "    ySpan = yMaxConstr - yMinConstr\n",
    "    for i in range(numSelect):       \n",
    "        NewY[i] = Ybest[i]\n",
    "\n",
    "    #Select new values of y by taking the output from the line function, \n",
    "    #and adding/subtracting some sort of error, of size defined by deistance from edge, and diminished by epsilon\n",
    "    \n",
    "    for i in range(cols - numSelect):\n",
    "        y = slope * xPoints[numSelect + i] + intercept\n",
    "        error = (random.random() - 0.5) * ySpan\n",
    "        \n",
    "\n",
    "        NewY[numSelect + i] = max(yMinConstr + 0.00001, min(y + error*(Epsilon**iterations), yMaxConstr - 0.000001))\n",
    "\n",
    "    \n",
    "    return NewY"
   ]
  },
  {
   "cell_type": "markdown",
   "metadata": {},
   "source": [
    "## 6. Repeat Until Convergence"
   ]
  },
  {
   "cell_type": "markdown",
   "metadata": {},
   "source": [
    "### Y-Range Search"
   ]
  },
  {
   "cell_type": "markdown",
   "metadata": {},
   "source": [
    "We will now repeat this process, but with 20 points in each generation, and selecting the 10 'fitt3est' points each generation. \n",
    "\n",
    "STEP ONE:\n",
    "Run the Following cell once to initialize the first generation:"
   ]
  },
  {
   "cell_type": "code",
   "execution_count": 52,
   "metadata": {},
   "outputs": [
    {
     "data": {
      "image/png": "[encoded data removed]",
      "text/plain": [
       "<Figure size 432x288 with 1 Axes>"
      ]
     },
     "metadata": {},
     "output_type": "display_data"
    }
   ],
   "source": [
    "cols = 6\n",
    "numSelect = 3\n",
    "inter = 0\n",
    "\n",
    "xPoints = np.ones(cols)\n",
    "yPoints = np.ones(cols)\n",
    "for i in range(cols):\n",
    "    xPoints[i] = random.random()\n",
    "    yPoints[i] = random.random()\n",
    "    plt.scatter(xPoints[i], yPoints[i], c='k', marker='.')\n",
    "plt.xlim(0,1)\n",
    "plt.ylim(0,1)\n",
    "plt.show()"
   ]
  },
  {
   "cell_type": "markdown",
   "metadata": {},
   "source": [
    "**INTERACTIVE**\n",
    "\n",
    "Now you may run the following cell as many times as you want. Each time you run the cell, it will perform loopsPerClick generations of the Y-Range search algorithm, and plot the top 10 points as, as well as that  generation's search spice."
   ]
  },
  {
   "cell_type": "code",
   "execution_count": 60,
   "metadata": {},
   "outputs": [
    {
     "name": "stdout",
     "output_type": "stream",
     "text": [
      "On iteration = 5 we search between:\n"
     ]
    },
    {
     "data": {
      "image/png": "[encoded data removed]",
      "text/plain": [
       "<Figure size 432x288 with 1 Axes>"
      ]
     },
     "metadata": {},
     "output_type": "display_data"
    }
   ],
   "source": [
    "Delta = 0.985\n",
    "Epsilon = 0.985\n",
    "loops = 0 #DO NOT CHANGE\n",
    "\n",
    "\n",
    "\n",
    "\n",
    "\n",
    "########################   CHANGE THIS VALUE IF YOU WANT TO RUN MORE THAN 1 LOOP EACH TIME YOU RUN THE CELL #########\n",
    "loopsPerClick = 5\n",
    "#THIS ONE ^^^^^^\n",
    "\n",
    "\n",
    "\n",
    "\n",
    "while loops < loopsPerClick:\n",
    "    loops += 1\n",
    "    inter += 1\n",
    "    fitVec = findFitness(xPoints, yPoints)\n",
    "    ordered = np.argsort(fitVec)\n",
    "    bestX = [xPoints[ordered[i]] for i in range(numSelect)]\n",
    "    bestY = [yPoints[ordered[i]] for i in range(numSelect)]\n",
    "    slope, intercept, r_value, p_value, std_err = sp.stats.linregress(bestX, bestY)\n",
    "    xPoints = nextGenX(bestX, inter + 1, Delta)\n",
    "    yPoints = nextGenYRange(bestY, inter + 1, Epsilon)\n",
    "\n",
    "iterationNum = inter\n",
    "\n",
    "xMins = min(bestX) - min(bestX)*(Delta**iterationNum)\n",
    "xMaxs = max(bestX) + (1 - max(bestX))*(Delta**iterationNum)\n",
    "\n",
    "yHatXMin = intercept + slope*xMins\n",
    "yHatXMax = intercept + slope*xMaxs\n",
    "\n",
    "yMinXMin = yHatXMin + (yMaxConstr-yHatXMin)*(Epsilon**iterationNum)\n",
    "yMaxXMin = yHatXMin - (yHatXMin-yMinConstr)*(Epsilon**iterationNum)\n",
    "yMinXMax = yHatXMax + (yMaxConstr-yHatXMax)*(Epsilon**iterationNum)\n",
    "yMaxXMax = yHatXMax - (yHatXMax-yMinConstr)*(Epsilon**iterationNum)\n",
    "\n",
    "yTopSlope = (yMaxXMax - yMaxXMin)/(xMaxs-xMins)\n",
    "yBottSlope = (yMinXMax - yMinXMin)/(xMaxs-xMins)\n",
    "\n",
    "topIntercept = yMaxXMin - yTopSlope*xMins\n",
    "bottIntercept = yMinXMin - yBottSlope *xMins\n",
    "\n",
    "\n",
    "for i in range(numSelect):\n",
    "    plt.scatter(bestX[i], bestY[i], c='k', marker='.')\n",
    "\n",
    "plt.plot(x,intercept + slope*x, 'k', linewidth=0.5)\n",
    "plt.plot(x,1000*(x-xMins), 'r', linewidth=0.5)\n",
    "plt.plot(x,1000*(x-xMaxs), 'r', linewidth=0.5)\n",
    "\n",
    "plt.plot(x,yTopSlope*x + topIntercept, 'r', linewidth=0.5)\n",
    "plt.plot(x,yBottSlope*x + bottIntercept, 'r', linewidth=0.5)\n",
    "\n",
    "plt.xlim(0,1)\n",
    "plt.ylim(0,1)\n",
    "plt.title(\"Iteration number 10\")\n",
    "\n",
    "print(\"On iteration =\", iterationNum, \"we search between:\")\n",
    "plt.show()"
   ]
  },
  {
   "cell_type": "markdown",
   "metadata": {},
   "source": [
    "### Error Adding"
   ]
  },
  {
   "cell_type": "markdown",
   "metadata": {},
   "source": [
    "We will now repeat this process, but with 20 points in each generation, and selecting the 10 'fitt3est' points each generation. \n",
    "\n",
    "STEP ONE:\n",
    "Run the Following cell once to initialize the first generation:"
   ]
  },
  {
   "cell_type": "code",
   "execution_count": 16,
   "metadata": {},
   "outputs": [
    {
     "data": {
      "image/png": "[encoded data removed]",
      "text/plain": [
       "<Figure size 432x288 with 1 Axes>"
      ]
     },
     "metadata": {},
     "output_type": "display_data"
    }
   ],
   "source": [
    "cols = 20\n",
    "numSelect = 10\n",
    "inter = 0\n",
    "\n",
    "xPoints = np.ones(cols)\n",
    "yPoints = np.ones(cols)\n",
    "for i in range(cols):\n",
    "    xPoints[i] = random.random()\n",
    "    yPoints[i] = random.random()\n",
    "    plt.scatter(xPoints[i], yPoints[i], c='k', marker='.')\n",
    "plt.xlim(0,1)\n",
    "plt.ylim(0,1)\n",
    "plt.show()"
   ]
  },
  {
   "cell_type": "markdown",
   "metadata": {},
   "source": [
    "**INTERACTIVE**\n",
    "\n",
    "Now you may run the following cell as many times as you want. Each time you run the cell, it will perform loopsPerClick generations of the Error Adding algorithm, and plot the top 10 points as, as well as that  generation's search spice."
   ]
  },
  {
   "cell_type": "code",
   "execution_count": 17,
   "metadata": {},
   "outputs": [
    {
     "name": "stdout",
     "output_type": "stream",
     "text": [
      "When i = 5 we search between:\n"
     ]
    },
    {
     "data": {
      "image/png": "[encoded data removed]",
      "text/plain": [
       "<Figure size 432x288 with 1 Axes>"
      ]
     },
     "metadata": {},
     "output_type": "display_data"
    }
   ],
   "source": [
    "Delta = 0.985\n",
    "Epsilon = 0.985\n",
    "\n",
    "loops = 0\n",
    "\n",
    "\n",
    "\n",
    "\n",
    "\n",
    "########################   CHANGE THIS VALUE IF YOU WANT TO RUN MORE THAN 1 LOOP EACH TIME YOU RUN THE CELL #########\n",
    "loopsPerClick = 5\n",
    "#THIS ONE ^^^^^^\n",
    "\n",
    "\n",
    "\n",
    "\n",
    "while loops < loopsPerClick:\n",
    "    loops += 1\n",
    "    inter += 1\n",
    "    fitVec = findFitness(xPoints, yPoints)\n",
    "    ordered = np.argsort(fitVec)\n",
    "    bestX = [xPoints[ordered[i]] for i in range(numSelect)]\n",
    "    bestY = [yPoints[ordered[i]] for i in range(numSelect)]\n",
    "    slope, intercept, r_value, p_value, std_err = sp.stats.linregress(bestX, bestY)\n",
    "    xPoints = nextGenX(bestX, inter + 1, Delta)\n",
    "    yPoints = nextGenYError(bestY, inter + 1, Epsilon)\n",
    "\n",
    "iterationNum = inter\n",
    "\n",
    "xMins = min(bestX) - min(bestX)*(Delta**iterationNum)\n",
    "xMaxs = max(bestX) + (1 - max(bestX))*(Delta**iterationNum)\n",
    "\n",
    "ySpan = yMaxConstr - yMinConstr\n",
    "error = ySpan*(random.random()-0.5)\n",
    "\n",
    "yHatXMin = intercept + slope*xMins\n",
    "yHatXMax = intercept + slope*xMaxs\n",
    "\n",
    "yMinXMin = max(0.00001, yHatXMin - (ySpan*0.5)*(Epsilon**iterationNum))\n",
    "yMaxXMin = min(0.99999, yHatXMin + (ySpan*0.5)*(Epsilon**iterationNum))\n",
    "yMinXMax = max(0.00001, yHatXMax - (ySpan*0.5)*(Epsilon**iterationNum))\n",
    "yMaxXMax = min(0.99999, yHatXMax + (ySpan*0.5)*(Epsilon**iterationNum))\n",
    "\n",
    "\n",
    "\n",
    "topIntercept = intercept + (ySpan*0.5)*(Epsilon**iterationNum)\n",
    "bottIntercept = intercept - (ySpan*0.5)*(Epsilon**iterationNum)\n",
    "\n",
    "for i in range(numSelect):\n",
    "    plt.scatter(bestX[i], bestY[i], c='k', marker='.')\n",
    "\n",
    "plt.plot(x,intercept + slope*x, 'k', linewidth=0.5)\n",
    "plt.plot(x,1000*(x-xMins), 'r', linewidth=0.5)\n",
    "plt.plot(x,1000*(x-xMaxs), 'r', linewidth=0.5)\n",
    "\n",
    "plt.plot(x,slope*x + topIntercept, 'r', linewidth=0.5)\n",
    "plt.plot(x,slope*x + bottIntercept, 'r', linewidth=0.5)\n",
    "\n",
    "plt.xlim(0,1)\n",
    "plt.ylim(0,1)\n",
    "\n",
    "print(\"When i =\", iterationNum, \"we search between:\")\n",
    "plt.show()"
   ]
  },
  {
   "cell_type": "code",
   "execution_count": null,
   "metadata": {},
   "outputs": [],
   "source": []
  },
  {
   "cell_type": "code",
   "execution_count": null,
   "metadata": {},
   "outputs": [],
   "source": []
  }
 ],
 "metadata": {
  "kernelspec": {
   "display_name": "Python 3",
   "language": "python",
   "name": "python3"
  },
  "language_info": {
   "codemirror_mode": {
    "name": "ipython",
    "version": 3
   },
   "file_extension": ".py",
   "mimetype": "text/x-python",
   "name": "python",
   "nbconvert_exporter": "python",
   "pygments_lexer": "ipython3",
   "version": "3.8.3"
  }
 },
 "nbformat": 4,
 "nbformat_minor": 4
}
